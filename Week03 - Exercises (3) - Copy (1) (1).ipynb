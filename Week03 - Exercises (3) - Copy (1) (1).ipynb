{
 "cells": [
  {
   "cell_type": "code",
   "execution_count": 3,
   "metadata": {},
   "outputs": [],
   "source": [
    "#1. Write a Python program to count the number of times a character appears in a string (hint a dict will be really useful here).\n",
    "\n",
    "string= \"hello\"\n",
    "count = 0\n",
    "for i in string: \n",
    "    if i == 'e': \n",
    "        count = count + 1"
   ]
  },
  {
   "cell_type": "code",
   "execution_count": 18,
   "metadata": {},
   "outputs": [
    {
     "name": "stdout",
     "output_type": "stream",
     "text": [
      "Helo\n",
      "empty string\n"
     ]
    }
   ],
   "source": [
    "#2. Write a Python program to get a string made of the first 2 and the last 2 characters from a given string. \n",
    "#If the string length is less than 2, return this instead of the empty string. \n",
    "\n",
    "def string_both_ends(str):\n",
    "  if len(str) < 2:\n",
    "    return 'Empty string'\n",
    "\n",
    "  return str[0:2] + str[-2:]\n",
    "\n",
    "print(string_both_ends('Hello'))\n",
    "\n",
    "print(string_both_ends('H'))\n",
    "\n",
    "\n"
   ]
  },
  {
   "cell_type": "code",
   "execution_count": 4,
   "metadata": {},
   "outputs": [
    {
     "name": "stdout",
     "output_type": "stream",
     "text": [
      "blllo heue\n"
     ]
    }
   ],
   "source": [
    "#3. Write a Python program to get a single string from two given strings, separated by a space and \n",
    "#swap the first two characters of each string.\n",
    "\n",
    "def chars_mix_up(a, b):\n",
    "  new_a = b[:2] + a[2:]\n",
    "  new_b = a[:2] + b[2:]\n",
    "\n",
    "  return new_a + ' ' + new_b\n",
    "print(chars_mix_up('hello', 'blue'))\n",
    "    "
   ]
  },
  {
   "cell_type": "code",
   "execution_count": 22,
   "metadata": {},
   "outputs": [
    {
     "name": "stdout",
     "output_type": "stream",
     "text": [
      "The longest word is Blue\n"
     ]
    }
   ],
   "source": [
    "#4. Write a Python function that takes a list of words and returns the length of the longest one.\n",
    "\n",
    "def find_longest_word(words_list):\n",
    "    word_len = []\n",
    "    for n in words_list:\n",
    "        word_len.append((len(n), n))\n",
    "    word_len.sort()\n",
    "    return word_len[-1][1]\n",
    "\n",
    "print(\"The longest word is\" , find_longest_word( [\"Hi\", \"Yes\", \"Blue\"]))\n"
   ]
  },
  {
   "cell_type": "code",
   "execution_count": 25,
   "metadata": {},
   "outputs": [
    {
     "name": "stdout",
     "output_type": "stream",
     "text": [
      "{1: 1, 2: 4, 3: 9, 4: 16, 5: 25, 6: 36, 7: 49, 8: 64, 9: 81, 10: 100, 11: 121, 12: 144, 13: 169, 14: 196, 15: 225}\n"
     ]
    }
   ],
   "source": [
    "#Dicts\n",
    "#Question one\n",
    "d=dict()\n",
    "for x in range(1,16):\n",
    "    d[x]=x**2\n",
    "print(d) "
   ]
  },
  {
   "cell_type": "code",
   "execution_count": 5,
   "metadata": {},
   "outputs": [
    {
     "name": "stdout",
     "output_type": "stream",
     "text": [
      "{1: 1, 2: 4, 3: 9, 4: 16, 5: 25, 6: 36, 7: 49, 8: 64, 9: 81, 10: 100, 11: 121, 12: 144, 13: 169, 14: 196, 15: 225}\n",
      "1240\n"
     ]
    }
   ],
   "source": [
    "#Write a Python program to sum all the items in the dictionary you made above. \n",
    "\n",
    "d=dict()\n",
    "for x in range(1,16):\n",
    "    d[x]=x**2\n",
    "for x in range(1,16) : \n",
    "    d[x] = (x**2)\n",
    "\n",
    "print(d) \n",
    "print(\"sum(d.values()))"
   ]
  },
  {
   "cell_type": "code",
   "execution_count": 47,
   "metadata": {},
   "outputs": [
    {
     "name": "stdout",
     "output_type": "stream",
     "text": [
      "Maximum Value:  5874\n",
      "Minimum Value:  500\n"
     ]
    }
   ],
   "source": [
    "my_dict = {'x':500, 'y':5874, 'z': 560}\n",
    "\n",
    "\n",
    "key_max = max(my_dict.keys(), key=(lambda k: my_dict[k]))\n",
    "key_min = min(my_dict.keys(), key=(lambda k: my_dict[k]))\n",
    "\n",
    "print('Maximum Value: ',my_dict[key_max])\n",
    "print('Minimum Value: ',my_dict[key_min])"
   ]
  },
  {
   "cell_type": "code",
   "execution_count": 50,
   "metadata": {},
   "outputs": [
    {
     "name": "stdin",
     "output_type": "stream",
     "text": [
      "Enter your house number:  22\n",
      "Enter your phone numebr  22\n",
      "Enter your Email:  22\n",
      "Enter your DOB:  22\n"
     ]
    }
   ],
   "source": [
    "#Create a program which takes input from the user - they should enter a name, followed by a phone number, \n",
    "#an email address and a date of birth. Use a dictionary to store the information. \n",
    "#Allow the user to keep adding names and information to the dictionary until they want to stop. \n",
    "#Then ask them do they want to look up a person's information and disply it in a nicely printed output.\n",
    "\n",
    "number = input(\"Enter your house number: \")\n",
    "phonenumber = input(\"Enter your phone numebr \")\n",
    "Email = input(\"Enter your Email: \")\n",
    "DOB = input(\"Enter your DOB: \")\n"
   ]
  },
  {
   "cell_type": "markdown",
   "metadata": {},
   "source": [
    "# Week 3 Exercises\n",
    "\n",
    "### Strings\n",
    "\n",
    "1. Write a Python program to count the number of times a character appears in a string (hint a dict will be really useful here).\n",
    "\n",
    "2. Write a Python program to get a string made of the first 2 and the last 2 characters from a given string. If the string length is less than 2, return this instead of the empty string. \n",
    "\n",
    "3. Write a Python program to get a single string from two given strings, separated by a space and swap the first two characters of each string.\n",
    "> Sample String : 'abc', 'xyz' \n",
    "  Expected Result : 'xyc abz'\n",
    "    \n",
    "4. Write a Python function that takes a list of words and returns the length of the longest one.\n",
    "\n",
    "### Dicts\n",
    "\n",
    "d=dict()\n",
    "for x in range(1,16):\n",
    "    d[x]=x**2\n",
    "    \n",
    "  \n",
    "2. Write a Python program to sum all the items in the dictionary you made above. \n",
    "\n",
    "3. Write a Python program to get the maximum and minimum value in a dictionary.\n",
    "\n",
    "> sample_dict = {'x':500, 'y':5874, 'z': 560}\n",
    "      \n",
    "      \n",
    "4. Create a program which takes input from the user - they should enter a name, followed by a phone number, an email address and a date of birth. Use a dictionary to store the information. Allow the user to keep adding names and information to the dictionary until they want to stop. Then ask them do they want to look up a person's information and disply it in a nicely printed output."
   ]
  }
 ],
 "metadata": {
  "kernelspec": {
   "display_name": "Python 3",
   "language": "python",
   "name": "python3"
  },
  "language_info": {
   "codemirror_mode": {
    "name": "ipython",
    "version": 3
   },
   "file_extension": ".py",
   "mimetype": "text/x-python",
   "name": "python",
   "nbconvert_exporter": "python",
   "pygments_lexer": "ipython3",
   "version": "3.7.3"
  }
 },
 "nbformat": 4,
 "nbformat_minor": 4
}
