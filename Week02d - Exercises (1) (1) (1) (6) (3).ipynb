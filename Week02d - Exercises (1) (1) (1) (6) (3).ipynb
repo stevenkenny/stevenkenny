{
 "cells": [
  {
   "cell_type": "markdown",
   "metadata": {},
   "source": [
    "# Week 2 Exercises"
   ]
  },
  {
   "cell_type": "markdown",
   "metadata": {},
   "source": [
    "## Theory\n",
    "\n",
    "1. Look at the documentation for lists at https://docs.python.org/3.6/tutorial/ and/or https://docs.python.org/3.6/library/stdtypes.html#sequence-types-list-tuple-range\n",
    "\n",
    "    Pick out three _methods_ that are implemented by the list object, and describe what they do. Write some pseudocode (code that doesn't have to run but makes logical sense) that shows how each method might be used. \n",
    "\n",
    "    \n",
    "2. How would you implement a counter in a `for` loop? That is, as you iterate through the items in a sequence, how do you count how many times you run the loop? Show this with pseudocode.\n",
    "\n",
    "    How would you just output every third item?\n",
    "    \n",
    "\n",
    "3. What module would you import for;\n",
    " - working with directories and paths\n",
    " - working with dates and times\n",
    " - working with common data interchange formats (google might help...)  \n",
    "     _hint_ https://docs.python.org/3.6/library/index.html\n",
    "     \n",
    "     Write the import statement for each of the above cases.\n",
    "     \n",
    "4. Have a look at `tuples`. How are these different from `lists`. Why would you use one over the other?"
   ]
  },
  {
   "cell_type": "code",
   "execution_count": null,
   "metadata": {},
   "outputs": [],
   "source": [
    "#Pick out three _methods_ that are implemented by the list object, and describe what they do.  \n",
    "#Write some pseudocode(code that doesn't have to run but makes logical sense) that shows \n",
    "#how each method might be used. \n",
    "\n",
    "#pseudocode for three methods\n",
    "#min()\n",
    "#using min(arg,arg,*arg)\n",
    "print (\"minimun is\",min(1,2,3,4,5,))\n",
    "\n",
    "#using max(arg,arg,*arg)\n",
    "print (\"max is\", max(3,5,3,4))\n",
    "\n",
    "#using lens(arg,arg,*arg)\n",
    "print(\"list lenght is\": lens(1,3,4,3,2,3,2,3,4,2))\n"
   ]
  },
  {
   "cell_type": "code",
   "execution_count": null,
   "metadata": {},
   "outputs": [],
   "source": [
    "#2. How would you implement a counter in a `for` loop? That is, \n",
    "#as you iterate through the items in a sequence, \n",
    "#how do you count how many times you run the loop? Show this with pseudocode.\n",
    " # How would you just output every third item?\n",
    "    \n",
    "#set i to be 0\n",
    "#set want to be 0\n",
    "#For elemetn in the list\n",
    "    #add 1 to count\n",
    "    #add 1 to 1 \n",
    "#end for\n",
    "    "
   ]
  },
  {
   "cell_type": "code",
   "execution_count": null,
   "metadata": {},
   "outputs": [],
   "source": [
    "#What module would you import for;\n",
    "\n",
    "#working with directories and paths\n",
    "import pkgutil\n",
    "\n",
    "#working with dates and times\n",
    "import datetime\n",
    "#working with common data interchange formats (google might help...)\n",
    "#Depends on what type of data you want to interchange\n",
    "#e.g XLSX\n",
    "import pandas as pd\n",
    "#e.g txt.\n",
    "#text_file = open(\"text.txt\", \"r\")\n",
    "#lines = text_file.read()\n",
    "\n",
    "4. Have a look at `tuples`. How are these different from `lists`. Why would you use one over the other?\n",
    "#The main difference between lists and a tuples is the fact that lists are mutable whereas tuples are immutable.\n",
    "# If you are going to be modifying an object then a list is more efficient to use\n",
    "# For debugging, tuples are more efficient as content will never change\n",
    "#Tuples are more memory efficient \n"
   ]
  },
  {
   "cell_type": "code",
   "execution_count": 2,
   "metadata": {},
   "outputs": [
    {
     "name": "stdout",
     "output_type": "stream",
     "text": [
      "['Madrid', 'Dublin', 'New York', 'Paris', 'London', ['Japan', 'Berlin']]\n"
     ]
    }
   ],
   "source": []
  },
  {
   "cell_type": "code",
   "execution_count": 6,
   "metadata": {},
   "outputs": [
    {
     "name": "stdout",
     "output_type": "stream",
     "text": [
      "['Madrid', 'Dublin', 'New York', 'London']\n"
     ]
    }
   ],
   "source": [
    "a=['Madrid', 'Dublin', 'New York', 'Paris','London']\n",
    "\n",
    "a.remove(\"Paris\")\n",
    "\n",
    "print(a)"
   ]
  },
  {
   "cell_type": "code",
   "execution_count": 4,
   "metadata": {},
   "outputs": [
    {
     "name": "stdout",
     "output_type": "stream",
     "text": [
      "['Madrid', 'Japan', 'New York', 'Paris', 'London']\n"
     ]
    }
   ],
   "source": [
    "a=[\"Madrid\", \"Dublin\", \"New York\", \"Paris\", \"London\"]\n",
    ">>> for n, i in enumerate(a):\n",
    "...   if i == \"Madrid\":\n",
    "...      a[1] = \"Japan\"\n",
    "\n",
    "print(a)"
   ]
  },
  {
   "cell_type": "markdown",
   "metadata": {},
   "source": [
    "## Code\n",
    "\n",
    "### Basic\n",
    "\n",
    "1. Take a year number as input from the user, and output whether the year is a leap-year or not.\n",
    "\n",
    "    https://en.wikipedia.org/wiki/Leap_year#Algorithm \n",
    "    \n",
    "    Extend the program to output how long it has been since the last leap year if it is not a leap year.\n",
    "    \n",
    "    Hint below if needed\n",
    "\n",
    "\n",
    "2. Write a program that takes a month numeral from the user and returns the text month and the season that the month is in.\n",
    "\n",
    "    Extend the above program to also return the number of days in the month entered. Hint below if needed.\n",
    "\n",
    "\n",
    "3.  Write a program that makes a shopping list, with the user able to enter an item and the number of items required. Then print the list, and the total number of items needed. Hint below if needed.\n",
    "\n",
    "\n",
    "4. Write a function which finds the largest of a list of numbers. Do not use a method, compare each element to the current maximum. Use a loop.\n",
    "\n",
    "\n",
    "5. Create a program that gives the user a menu with the following options:\n",
    "    - A Add an element to a list\n",
    "    - R Remove an element from the list\n",
    "    - P Replace an element with another\n",
    "    - S sort the list\n",
    "    \n",
    " \n",
    "    Original list: [‘Madrid’, ‘Dublin’, ’New York’, ’Paris’, ’London’]\n",
    "\n",
    "_hint 1: you will need to use the modulus operator_  \n",
    "_hint 2: create a second list with the number of days in each 'slot'_  \n",
    "_hint 3: use a for loop to take each item/count input and add each to a seperate list_\n",
    "\n"
   ]
  },
  {
   "cell_type": "code",
   "execution_count": 5,
   "metadata": {},
   "outputs": [
    {
     "name": "stdin",
     "output_type": "stream",
     "text": [
      "Please input year: 2018\n"
     ]
    },
    {
     "name": "stdout",
     "output_type": "stream",
     "text": [
      "Two years since a leap year\n"
     ]
    }
   ],
   "source": [
    "#1. Take a year number as input from the user, and output whether the year is a leap-year or not.\n",
    "\n",
    "#    https://en.wikipedia.org/wiki/Leap_year#Algorithm \n",
    "    \n",
    "  #  Extend the program to output how long it has been since the last leap year if it is not a leap year.\n",
    "    \n",
    "    Hint below if needed\n",
    "year=int(input(\"Please input year:\"))\n",
    "\n",
    "if year % 4 == 0 and year % 100 !=0:\n",
    "    print(\"Leap year\")\n",
    "    \n",
    "elif year % 4 == 0 and year % 100 == 0:\n",
    "    if year % 400 ==0:\n",
    "        print(\"Leap year\")\n",
    "    else:\n",
    "        print(\"Not a leap year\")\n",
    "\n",
    "elif year %4 == 1:\n",
    "    print(\"One year since a leap year\")\n",
    "elif year %4 == 2 :\n",
    "    print(\"Two years since a leap year\")\n",
    "elif year %4 == 3:\n",
    "    print(\"Three years since a leap year\")"
   ]
  },
  {
   "cell_type": "code",
   "execution_count": 5,
   "metadata": {},
   "outputs": [
    {
     "name": "stdin",
     "output_type": "stream",
     "text": [
      "Enter a month 1\n"
     ]
    },
    {
     "name": "stdout",
     "output_type": "stream",
     "text": [
      "January\n",
      "31\n",
      "Winter\n"
     ]
    }
   ],
   "source": [
    "m = int(input(\"Enter a month\"))\n",
    "\n",
    "months=[\"January\", \"February\",\" March\",\"April\",\"May\", \"June\",\"July\",\"August\",\"September\",\"October\",\"November\",\"December\"]\n",
    "days= [\"31\",\"28\",\"31\",\"30\",\"31\",\"30\",\"31\",\"31\",\"30\",\"31\",\"30\",\"31\"]\n",
    "    \n",
    "Spring = [\"February\", \"March\", \"April\"]\n",
    "Summer = [\"May\", \"June\", \"July\"]\n",
    "Autumn = [\"August\", \"September\", \"October\"]\n",
    "Winter = [\"January\", \"November\", \"December\"]\n",
    "\n",
    "\n",
    "month = months[m-1]\n",
    "day = days[m-1]\n",
    "print(month)\n",
    "print(day)\n",
    "if month in Spring:\n",
    "    print(\"Spring\")\n",
    "    \n",
    "elif month in Summer:\n",
    "    print(\"Summer\")\n",
    "    \n",
    "elif month in Autumn:\n",
    "    print(\"Autumn\")\n",
    "    \n",
    "elif month in Winter:\n",
    "    print(\"Winter\")\n",
    "\n",
    "\n",
    "\n"
   ]
  },
  {
   "cell_type": "code",
   "execution_count": null,
   "metadata": {},
   "outputs": [],
   "source": [
    "#.  Write a program that makes a shopping list, with the user able to enter an item and the number of items required.\n",
    "#hen print the list, and the total number of items needed. Hint below if needed.\n",
    "\n",
    "numItems = input(\"How many items do you want? \")\n",
    "myTup = ()\n",
    "myList = []\n",
    "\n",
    "for x in range(int(numItems)):\n",
    "    itemName = input(\"Enter item name: \")\n",
    "    itemPrice = input(\"Enter item price: \")\n",
    "    myTup = (itemPrice, itemName)\n",
    "    myList.append(myTup)\n",
    "\n",
    "myList.sort()\n",
    "\n",
    "for x in range(len(myList)): print(myList[x][1] + \" = \" + myList[x][0])"
   ]
  },
  {
   "cell_type": "code",
   "execution_count": 8,
   "metadata": {},
   "outputs": [
    {
     "name": "stdout",
     "output_type": "stream",
     "text": [
      "16\n",
      "3\n"
     ]
    }
   ],
   "source": [
    "#4. Write a function which finds the largest of a list of numbers. \n",
    "#Do not use a method, compare each element to the current maximum. Use a loop.\n",
    "nums = [14, 8, 9, 16, 3, 11, 5]\n",
    "\n",
    "big = None\n",
    "\n",
    "small = None\n",
    "\n",
    "for i, v in enumerate(nums):\n",
    "    if big is None or v > big:\n",
    "         big = v\n",
    "         spot = i\n",
    "print(big)\n",
    "print(spot)"
   ]
  },
  {
   "cell_type": "code",
   "execution_count": null,
   "metadata": {},
   "outputs": [],
   "source": [
    "#5. Create a program that gives the user a menu with the following options:\n",
    " #    - R Remove an element from the list\n",
    "#    - P Replace an element with another\n",
    " #   - S sort the list\n",
    "    \n",
    " \n",
    "#    Original list: [‘Madrid’, ‘Dublin’, ’New York’, ’Paris’, ’London’]"
   ]
  },
  {
   "cell_type": "code",
   "execution_count": 1,
   "metadata": {},
   "outputs": [
    {
     "name": "stdout",
     "output_type": "stream",
     "text": [
      "['Madrid', 'Dublin', 'New York', 'Paris', 'London', ['Japan', 'Berlin']]\n"
     ]
    }
   ],
   "source": [
    "a=['Madrid', 'Dublin', 'New York', 'Paris', 'London']\n",
    "a.append(['Japan', 'Berlin'])\n",
    "\n",
    "print(a)\n"
   ]
  },
  {
   "cell_type": "code",
   "execution_count": null,
   "metadata": {},
   "outputs": [],
   "source": [
    "a=['Madrid', 'Dublin', 'New York', 'Paris','London']\n",
    "\n",
    "a.remove(\"Paris\")\n",
    "\n",
    "print(a)"
   ]
  },
  {
   "cell_type": "code",
   "execution_count": null,
   "metadata": {},
   "outputs": [],
   "source": [
    "a=['Madrid', 'Dublin', 'New York', 'Paris','London']\n",
    "\n",
    "a.remove(\"Paris\")\n",
    "\n",
    "print(a)"
   ]
  },
  {
   "cell_type": "code",
   "execution_count": 41,
   "metadata": {},
   "outputs": [
    {
     "name": "stdout",
     "output_type": "stream",
     "text": [
      "['Dublin', 'London', 'Madrid', 'New York', 'Paris']\n"
     ]
    }
   ],
   "source": [
    "a=['Madrid', 'Dublin', 'New York', 'Paris','London']\n",
    "\n",
    "a.sort()\n",
    "\n",
    "print(a)"
   ]
  },
  {
   "cell_type": "code",
   "execution_count": null,
   "metadata": {},
   "outputs": [],
   "source": []
  }
 ],
 "metadata": {
  "kernelspec": {
   "display_name": "Python 3",
   "language": "python",
   "name": "python3"
  },
  "language_info": {
   "codemirror_mode": {
    "name": "ipython",
    "version": 3
   },
   "file_extension": ".py",
   "mimetype": "text/x-python",
   "name": "python",
   "nbconvert_exporter": "python",
   "pygments_lexer": "ipython3",
   "version": "3.7.3"
  }
 },
 "nbformat": 4,
 "nbformat_minor": 4
}
